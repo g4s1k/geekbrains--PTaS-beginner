{
 "cells": [
  {
   "cell_type": "code",
   "execution_count": 1,
   "id": "awful-flight",
   "metadata": {},
   "outputs": [],
   "source": [
    "import math\n",
    "import pandas as pd\n",
    "import numpy as np\n",
    "import matplotlib as mpl\n",
    "import matplotlib.pyplot as plt\n",
    "import seaborn as sns\n",
    "from typing import List"
   ]
  },
  {
   "cell_type": "code",
   "execution_count": 2,
   "id": "continental-aggregate",
   "metadata": {},
   "outputs": [
    {
     "data": {
      "text/html": [
       "<style>.container { width:85% !important; }</style>"
      ],
      "text/plain": [
       "<IPython.core.display.HTML object>"
      ]
     },
     "metadata": {},
     "output_type": "display_data"
    }
   ],
   "source": [
    "from IPython.core.display import display, HTML\n",
    "display(HTML(\"<style>.container { width:85% !important; }</style>\"))"
   ]
  },
  {
   "cell_type": "code",
   "execution_count": 3,
   "id": "polish-blowing",
   "metadata": {},
   "outputs": [],
   "source": [
    "%matplotlib inline"
   ]
  },
  {
   "cell_type": "code",
   "execution_count": 4,
   "id": "appreciated-square",
   "metadata": {},
   "outputs": [],
   "source": [
    "mpl.style.use('seaborn-whitegrid')"
   ]
  },
  {
   "cell_type": "code",
   "execution_count": 5,
   "id": "relative-singles",
   "metadata": {},
   "outputs": [],
   "source": [
    "graph_params = {\n",
    "    'figure.figsize': (15, 7),\n",
    "    'axes.titlesize': 26,\n",
    "    'axes.labelsize': 20,\n",
    "    'xtick.labelsize': 18,\n",
    "    'ytick.labelsize': 18,\n",
    "    'lines.linewidth': 2,\n",
    "    'scatter.marker': '*',\n",
    "    'lines.markersize': 10\n",
    "}"
   ]
  },
  {
   "cell_type": "code",
   "execution_count": 6,
   "id": "useful-fusion",
   "metadata": {},
   "outputs": [],
   "source": [
    "plt.rcParams.update(graph_params)"
   ]
  },
  {
   "cell_type": "markdown",
   "id": "convenient-signature",
   "metadata": {},
   "source": [
    "## Урок 2\n",
    "## Дискретные случайные величины. Закон распределения вероятностей. Биномиальный закон распределения. Распределение Пуассона"
   ]
  },
  {
   "cell_type": "markdown",
   "id": "mathematical-cornell",
   "metadata": {},
   "source": [
    "### Необходимые функции"
   ]
  },
  {
   "cell_type": "code",
   "execution_count": 7,
   "id": "dirty-scenario",
   "metadata": {},
   "outputs": [],
   "source": [
    "def comb_count(n: int, k: int) -> int:\n",
    "    result = math.factorial(n)/(math.factorial(k)*math.factorial(n - k))\n",
    "    return result"
   ]
  },
  {
   "cell_type": "code",
   "execution_count": 8,
   "id": "english-footwear",
   "metadata": {},
   "outputs": [],
   "source": [
    "def bin_prob(n: int, p: float, k: int) -> float:\n",
    "    relevant_comb_count = comb_count(n, k)\n",
    "    k_ones_prob = p**k\n",
    "    remaining_zeros_prob = (1-p)**(n-k)\n",
    "    result = relevant_comb_count*k_ones_prob*remaining_zeros_prob\n",
    "    return result"
   ]
  },
  {
   "cell_type": "code",
   "execution_count": 9,
   "id": "alleged-chapter",
   "metadata": {},
   "outputs": [],
   "source": [
    "def poisson_prob(lam: float, k: int) -> float:\n",
    "    return (lam**k)*math.exp(-lam)/math.factorial(k)"
   ]
  },
  {
   "cell_type": "code",
   "execution_count": 10,
   "id": "shaped-billy",
   "metadata": {},
   "outputs": [],
   "source": [
    "def Mx(x: List[int] = list(), px: List[float] = list(), distr: pd.DataFrame = pd.DataFrame(columns=['X', 'prob'])) -> float:\n",
    "    #print('\\n'.join([_.__repr__() for _ in [x, px, distr]]))\n",
    "    if x and px:\n",
    "        assert len(x) == len(px), \"Кол-во значений вероятностей не соответствует кол-ву значений случайной величины\"\n",
    "        result = 0\n",
    "        for x, p in zip(x, px):\n",
    "            result += x*p\n",
    "        return result\n",
    "    elif not distr.empty:\n",
    "        assert 'X' in distr.columns and 'prob' in distr.columns, \"Фрейм должен содержать столбцы x и prob со значениями случайной величины \\\n",
    "                                                                      и соответствующими вероятностями\"\n",
    "        result = sum(distr['X']*distr['prob'])\n",
    "        return result\n",
    "    else:\n",
    "        raise ValueError(\"Должны быть заданы значения случайной величины и соответствующие значения вероятностей!\")"
   ]
  },
  {
   "cell_type": "code",
   "execution_count": 11,
   "id": "afraid-sacramento",
   "metadata": {},
   "outputs": [],
   "source": [
    "def Dx(x: List[int] = list(), px: List[float] = list(), distr: pd.DataFrame = pd.DataFrame(columns=['X', 'prob'])) -> float:\n",
    "    M = Mx(x, px, distr)\n",
    "    # секция для случая непустого массива Х\n",
    "    sqr_err = [(M - x)**2 for x in x]\n",
    "    # секция для случая непустого фрейма распределения Х\n",
    "    distr_err = distr.copy()\n",
    "    distr_err['X'] = (M - distr_err['X'])**2\n",
    "    # итоговая секция\n",
    "    D = Mx(sqr_err, px, distr_err)\n",
    "    return D        "
   ]
  },
  {
   "cell_type": "markdown",
   "id": "missing-evanescence",
   "metadata": {},
   "source": [
    "### Задача 1"
   ]
  },
  {
   "cell_type": "markdown",
   "id": "prostate-republican",
   "metadata": {},
   "source": [
    "#### Условие"
   ]
  },
  {
   "cell_type": "markdown",
   "id": "horizontal-target",
   "metadata": {},
   "source": [
    "Контрольная работа состоит из пяти вопросов. На каждый вопрос приведено четыре варианта ответа, один из которых правильный. Случайная величина X задаёт число правильных ответов при простом угадывании. Составьте закон распределения случайной величины X. Найдите математическое ожидание и дисперсию данной случайной величины."
   ]
  },
  {
   "cell_type": "markdown",
   "id": "dirty-analyst",
   "metadata": {},
   "source": [
    "#### Решение"
   ]
  },
  {
   "cell_type": "markdown",
   "id": "creative-belly",
   "metadata": {},
   "source": [
    "* При простом угадывании из четырех вариантов ответов, вероятность получить правильный будет равна $1/4$.\n",
    "* Ответ на один вопрос - это одно испытание с бинарным результатом (правильный или неправильный ответ), \n",
    "* Контрольная - серия из 5 испытаний \n",
    "\n",
    "Значит закон распределения будет соответствовать биномиальному с $n = 5$ и $p = 0.25$"
   ]
  },
  {
   "cell_type": "markdown",
   "id": "forward-police",
   "metadata": {},
   "source": [
    "###### Зададим значения параметров"
   ]
  },
  {
   "cell_type": "code",
   "execution_count": 12,
   "id": "young-prefix",
   "metadata": {},
   "outputs": [],
   "source": [
    "n = 5\n",
    "p = 0.25"
   ]
  },
  {
   "cell_type": "markdown",
   "id": "banned-paradise",
   "metadata": {},
   "source": [
    "###### Значения, которые может принимать случайная величина"
   ]
  },
  {
   "cell_type": "code",
   "execution_count": 13,
   "id": "dress-panel",
   "metadata": {},
   "outputs": [],
   "source": [
    "X = [_ for _ in range(6)]"
   ]
  },
  {
   "cell_type": "markdown",
   "id": "secondary-remedy",
   "metadata": {},
   "source": [
    "###### Вероятности, соответствующие значениям случайной величины"
   ]
  },
  {
   "cell_type": "code",
   "execution_count": 14,
   "id": "concerned-independence",
   "metadata": {},
   "outputs": [],
   "source": [
    "Px = [bin_prob(n, p, x) for x in X]"
   ]
  },
  {
   "cell_type": "markdown",
   "id": "artistic-tournament",
   "metadata": {},
   "source": [
    "###### Закон распределения случайной величины Х"
   ]
  },
  {
   "cell_type": "code",
   "execution_count": 15,
   "id": "introductory-strategy",
   "metadata": {},
   "outputs": [],
   "source": [
    "distr_X = pd.DataFrame.from_dict({\n",
    "    'X': X,\n",
    "    'prob': Px\n",
    "})"
   ]
  },
  {
   "cell_type": "code",
   "execution_count": 16,
   "id": "brutal-property",
   "metadata": {},
   "outputs": [
    {
     "data": {
      "text/plain": [
       "Text(0.5, 0, 'Кол-во правильных ответов')"
      ]
     },
     "execution_count": 16,
     "metadata": {},
     "output_type": "execute_result"
    },
    {
     "data": {
      "image/png": "[encoded data removed]",
      "text/plain": [
       "<Figure size 1080x504 with 1 Axes>"
      ]
     },
     "metadata": {},
     "output_type": "display_data"
    }
   ],
   "source": [
    "fig = plt.scatter(x=distr_X['X'], y=distr_X['prob'], color='r')\n",
    "plt.title('Закон распределения количества правильных ответов в КР\\n(n = 5, p = 0.25)')\n",
    "plt.xlabel('Кол-во правильных ответов')"
   ]
  },
  {
   "cell_type": "markdown",
   "id": "skilled-calendar",
   "metadata": {},
   "source": [
    "ПС: мне кажется, что для дискретных случайных величин правильно отображать закон распределения в виде scatterplot, а не lineplot, а то на графике будут какие-то значения вероятностей для значений случайной величины, не входящих в область определения."
   ]
  },
  {
   "cell_type": "markdown",
   "id": "matched-alabama",
   "metadata": {},
   "source": [
    "###### Мат ожидание и дисперсия Х"
   ]
  },
  {
   "cell_type": "code",
   "execution_count": 17,
   "id": "civil-treaty",
   "metadata": {},
   "outputs": [
    {
     "data": {
      "text/plain": [
       "1.25"
      ]
     },
     "execution_count": 17,
     "metadata": {},
     "output_type": "execute_result"
    }
   ],
   "source": [
    "Mx(distr=distr_X)"
   ]
  },
  {
   "cell_type": "code",
   "execution_count": 18,
   "id": "marked-booth",
   "metadata": {},
   "outputs": [
    {
     "data": {
      "text/plain": [
       "0.9375"
      ]
     },
     "execution_count": 18,
     "metadata": {},
     "output_type": "execute_result"
    }
   ],
   "source": [
    "Dx(distr=distr_X)"
   ]
  },
  {
   "cell_type": "code",
   "execution_count": null,
   "id": "cordless-slope",
   "metadata": {},
   "outputs": [],
   "source": []
  },
  {
   "cell_type": "markdown",
   "id": "greek-slave",
   "metadata": {},
   "source": [
    "### Задача 2"
   ]
  },
  {
   "cell_type": "markdown",
   "id": "generous-rehabilitation",
   "metadata": {},
   "source": [
    "#### Условие"
   ]
  },
  {
   "cell_type": "markdown",
   "id": "industrial-satellite",
   "metadata": {},
   "source": [
    "Пользователь получает в среднем 10 писем со спамом на свой почтовый ящик за сутки. Найти число $N$, такое, что с вероятностью 0.95 пользователь получит не более $N$ писем со спамом за текущий день."
   ]
  },
  {
   "cell_type": "markdown",
   "id": "broken-shopper",
   "metadata": {},
   "source": [
    "#### Решение"
   ]
  },
  {
   "cell_type": "markdown",
   "id": "liked-island",
   "metadata": {},
   "source": [
    "Допустим, что получение спама - цепь независимых событий, хотя это может быть и не так. Формулировка задачи намекает на использование распределения Пуассона. Так как условие на $N$ поставлено, как \"не более\", то будем суммировать вероятности для количества писем, начиная с 0 с шагом 1 до достижения нужного порога по вероятности."
   ]
  },
  {
   "cell_type": "code",
   "execution_count": 19,
   "id": "juvenile-edgar",
   "metadata": {},
   "outputs": [],
   "source": [
    "lam = 10 # параметр распределения Пуассона\n",
    "p_val = 0.95 # наше пороговое значение вероятности"
   ]
  },
  {
   "cell_type": "code",
   "execution_count": 20,
   "id": "rocky-launch",
   "metadata": {},
   "outputs": [],
   "source": [
    "p = 0 # переменная для хранения значения вероятности получить кол-во спама не более текущего значения\n",
    "spam_mails_count = 0 # текущее значение кол-ва спама\n",
    "while p < p_val:\n",
    "    Psmc = poisson_prob(lam=lam, k=spam_mails_count) # вероятность получить кол-во спама в точности равное текущему значению\n",
    "    p += Psmc\n",
    "    spam_mails_count += 1"
   ]
  },
  {
   "cell_type": "markdown",
   "id": "received-ridge",
   "metadata": {},
   "source": [
    "###### Полученное значение вероятности"
   ]
  },
  {
   "cell_type": "code",
   "execution_count": 21,
   "id": "industrial-aerospace",
   "metadata": {},
   "outputs": [
    {
     "data": {
      "text/plain": [
       "0.951"
      ]
     },
     "execution_count": 21,
     "metadata": {},
     "output_type": "execute_result"
    }
   ],
   "source": [
    "round(p, 3)"
   ]
  },
  {
   "cell_type": "markdown",
   "id": "finnish-czech",
   "metadata": {},
   "source": [
    "###### Полученное максимальное количество спама в день для заданной вероятности 95%"
   ]
  },
  {
   "cell_type": "code",
   "execution_count": 22,
   "id": "crude-fishing",
   "metadata": {},
   "outputs": [
    {
     "data": {
      "text/plain": [
       "16"
      ]
     },
     "execution_count": 22,
     "metadata": {},
     "output_type": "execute_result"
    }
   ],
   "source": [
    "spam_mails_count"
   ]
  },
  {
   "cell_type": "code",
   "execution_count": null,
   "id": "fiscal-wealth",
   "metadata": {},
   "outputs": [],
   "source": []
  },
  {
   "cell_type": "markdown",
   "id": "present-header",
   "metadata": {},
   "source": [
    "### Задача 3"
   ]
  },
  {
   "cell_type": "markdown",
   "id": "static-premium",
   "metadata": {},
   "source": [
    "#### Условие"
   ]
  },
  {
   "cell_type": "markdown",
   "id": "historic-discipline",
   "metadata": {},
   "source": [
    "Производятся выстрелы по мишени. Вероятность попадания в мишень при одном выстреле равна 0.01. Сколько выстрелов нужно сделать чтобы быть уверенным с вероятностью 0.9, что хотя бы 6 раз будет совершено попадание?"
   ]
  },
  {
   "cell_type": "markdown",
   "id": "adaptive-unemployment",
   "metadata": {},
   "source": [
    "#### Решение"
   ]
  },
  {
   "cell_type": "markdown",
   "id": "geological-america",
   "metadata": {},
   "source": [
    "* если говорим \"не более\", \"хотя бы\" и т.д. - значит речь пойдет о сумме вероятностей, \n",
    "* базовым случаем будет попадание k раз из n выстрелов - это биномиальное распределение,\n",
    "* $P(X >= 6) = 1 - P(X < 6)$\n",
    "* $X >= 6 <=> X > 5$ в данном случае, так как шаг кол-ва выстрелов равен 1"
   ]
  },
  {
   "cell_type": "code",
   "execution_count": 23,
   "id": "considerable-orleans",
   "metadata": {},
   "outputs": [],
   "source": [
    "n = 6 # начальное количество выстрелов логично поставить равным 6, вдруг сразу попадем))\n",
    "p = 0.01\n",
    "p_val = 0.9 # наше пороговое значение вероятности\n",
    "Pmt5 = 0 # переменная для хранения вероятности попасть больше 5 раз при текущем количестве выстрелов\n",
    "while Pmt5 < p_val:\n",
    "    P = 0 # переменная для хранения вероятности попасть меньше 6 раз при текущем количестве выстрелов\n",
    "    for k in range(6):\n",
    "        P += bin_prob(n=n, p=p, k=k)\n",
    "    Pmt5 = 1 - P\n",
    "    n += 1"
   ]
  },
  {
   "cell_type": "markdown",
   "id": "applied-peace",
   "metadata": {},
   "source": [
    "###### Полученное значение вероятности"
   ]
  },
  {
   "cell_type": "code",
   "execution_count": 24,
   "id": "effective-alias",
   "metadata": {},
   "outputs": [
    {
     "data": {
      "text/plain": [
       "0.9004"
      ]
     },
     "execution_count": 24,
     "metadata": {},
     "output_type": "execute_result"
    }
   ],
   "source": [
    "round(Pmt5, 4)"
   ]
  },
  {
   "cell_type": "markdown",
   "id": "average-peoples",
   "metadata": {},
   "source": [
    "###### Полученное необходимое количество выстрелов"
   ]
  },
  {
   "cell_type": "code",
   "execution_count": 25,
   "id": "behind-language",
   "metadata": {},
   "outputs": [
    {
     "data": {
      "text/plain": [
       "927"
      ]
     },
     "execution_count": 25,
     "metadata": {},
     "output_type": "execute_result"
    }
   ],
   "source": [
    "n"
   ]
  },
  {
   "cell_type": "code",
   "execution_count": null,
   "id": "brief-grocery",
   "metadata": {},
   "outputs": [],
   "source": []
  }
 ],
 "metadata": {
  "kernelspec": {
   "display_name": "Python 3",
   "language": "python",
   "name": "python3"
  },
  "language_info": {
   "codemirror_mode": {
    "name": "ipython",
    "version": 3
   },
   "file_extension": ".py",
   "mimetype": "text/x-python",
   "name": "python",
   "nbconvert_exporter": "python",
   "pygments_lexer": "ipython3",
   "version": "3.7.10"
  }
 },
 "nbformat": 4,
 "nbformat_minor": 5
}
